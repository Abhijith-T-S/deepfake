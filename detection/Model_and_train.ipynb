{
  "nbformat": 4,
  "nbformat_minor": 0,
  "metadata": {
    "colab": {
      "name": "Model_and_train.ipynb",
      "provenance": [],
      "collapsed_sections": []
    },
    "kernelspec": {
      "name": "python3",
      "display_name": "Python 3"
    },
    "accelerator": "GPU",
    "widgets": {
      "application/vnd.jupyter.widget-state+json": {
        "113f0cab1f3342799082152a3db13cb4": {
          "model_module": "@jupyter-widgets/controls",
          "model_name": "HBoxModel",
          "model_module_version": "1.5.0",
          "state": {
            "_dom_classes": [],
            "_model_module": "@jupyter-widgets/controls",
            "_model_module_version": "1.5.0",
            "_model_name": "HBoxModel",
            "_view_count": null,
            "_view_module": "@jupyter-widgets/controls",
            "_view_module_version": "1.5.0",
            "_view_name": "HBoxView",
            "box_style": "",
            "children": [
              "IPY_MODEL_bc1cc036d63c49009d2ce30d325ad4e1",
              "IPY_MODEL_569feed97bdc4972af9d9e7b0eae9cd9",
              "IPY_MODEL_f15825c691b4428d951a44864d1bfa80"
            ],
            "layout": "IPY_MODEL_e653aad873c646f880021150dc166430"
          }
        },
        "bc1cc036d63c49009d2ce30d325ad4e1": {
          "model_module": "@jupyter-widgets/controls",
          "model_name": "HTMLModel",
          "model_module_version": "1.5.0",
          "state": {
            "_dom_classes": [],
            "_model_module": "@jupyter-widgets/controls",
            "_model_module_version": "1.5.0",
            "_model_name": "HTMLModel",
            "_view_count": null,
            "_view_module": "@jupyter-widgets/controls",
            "_view_module_version": "1.5.0",
            "_view_name": "HTMLView",
            "description": "",
            "description_tooltip": null,
            "layout": "IPY_MODEL_a4785042d28a465f8fdbe28825850359",
            "placeholder": "​",
            "style": "IPY_MODEL_d42a934d74bf46839b3534ba017d357e",
            "value": "100%"
          }
        },
        "569feed97bdc4972af9d9e7b0eae9cd9": {
          "model_module": "@jupyter-widgets/controls",
          "model_name": "FloatProgressModel",
          "model_module_version": "1.5.0",
          "state": {
            "_dom_classes": [],
            "_model_module": "@jupyter-widgets/controls",
            "_model_module_version": "1.5.0",
            "_model_name": "FloatProgressModel",
            "_view_count": null,
            "_view_module": "@jupyter-widgets/controls",
            "_view_module_version": "1.5.0",
            "_view_name": "ProgressView",
            "bar_style": "success",
            "description": "",
            "description_tooltip": null,
            "layout": "IPY_MODEL_ad7841f3911246b98271aa8813286d50",
            "max": 100441675,
            "min": 0,
            "orientation": "horizontal",
            "style": "IPY_MODEL_de33f5941d2a4519a6a96072525e2ba2",
            "value": 100441675
          }
        },
        "f15825c691b4428d951a44864d1bfa80": {
          "model_module": "@jupyter-widgets/controls",
          "model_name": "HTMLModel",
          "model_module_version": "1.5.0",
          "state": {
            "_dom_classes": [],
            "_model_module": "@jupyter-widgets/controls",
            "_model_module_version": "1.5.0",
            "_model_name": "HTMLModel",
            "_view_count": null,
            "_view_module": "@jupyter-widgets/controls",
            "_view_module_version": "1.5.0",
            "_view_name": "HTMLView",
            "description": "",
            "description_tooltip": null,
            "layout": "IPY_MODEL_57bcebf17932467e8e3961b281915ef3",
            "placeholder": "​",
            "style": "IPY_MODEL_941fa742dc1842a49222cac3ac35b9f0",
            "value": " 95.8M/95.8M [00:01&lt;00:00, 66.4MB/s]"
          }
        },
        "e653aad873c646f880021150dc166430": {
          "model_module": "@jupyter-widgets/base",
          "model_name": "LayoutModel",
          "model_module_version": "1.2.0",
          "state": {
            "_model_module": "@jupyter-widgets/base",
            "_model_module_version": "1.2.0",
            "_model_name": "LayoutModel",
            "_view_count": null,
            "_view_module": "@jupyter-widgets/base",
            "_view_module_version": "1.2.0",
            "_view_name": "LayoutView",
            "align_content": null,
            "align_items": null,
            "align_self": null,
            "border": null,
            "bottom": null,
            "display": null,
            "flex": null,
            "flex_flow": null,
            "grid_area": null,
            "grid_auto_columns": null,
            "grid_auto_flow": null,
            "grid_auto_rows": null,
            "grid_column": null,
            "grid_gap": null,
            "grid_row": null,
            "grid_template_areas": null,
            "grid_template_columns": null,
            "grid_template_rows": null,
            "height": null,
            "justify_content": null,
            "justify_items": null,
            "left": null,
            "margin": null,
            "max_height": null,
            "max_width": null,
            "min_height": null,
            "min_width": null,
            "object_fit": null,
            "object_position": null,
            "order": null,
            "overflow": null,
            "overflow_x": null,
            "overflow_y": null,
            "padding": null,
            "right": null,
            "top": null,
            "visibility": null,
            "width": null
          }
        },
        "a4785042d28a465f8fdbe28825850359": {
          "model_module": "@jupyter-widgets/base",
          "model_name": "LayoutModel",
          "model_module_version": "1.2.0",
          "state": {
            "_model_module": "@jupyter-widgets/base",
            "_model_module_version": "1.2.0",
            "_model_name": "LayoutModel",
            "_view_count": null,
            "_view_module": "@jupyter-widgets/base",
            "_view_module_version": "1.2.0",
            "_view_name": "LayoutView",
            "align_content": null,
            "align_items": null,
            "align_self": null,
            "border": null,
            "bottom": null,
            "display": null,
            "flex": null,
            "flex_flow": null,
            "grid_area": null,
            "grid_auto_columns": null,
            "grid_auto_flow": null,
            "grid_auto_rows": null,
            "grid_column": null,
            "grid_gap": null,
            "grid_row": null,
            "grid_template_areas": null,
            "grid_template_columns": null,
            "grid_template_rows": null,
            "height": null,
            "justify_content": null,
            "justify_items": null,
            "left": null,
            "margin": null,
            "max_height": null,
            "max_width": null,
            "min_height": null,
            "min_width": null,
            "object_fit": null,
            "object_position": null,
            "order": null,
            "overflow": null,
            "overflow_x": null,
            "overflow_y": null,
            "padding": null,
            "right": null,
            "top": null,
            "visibility": null,
            "width": null
          }
        },
        "d42a934d74bf46839b3534ba017d357e": {
          "model_module": "@jupyter-widgets/controls",
          "model_name": "DescriptionStyleModel",
          "model_module_version": "1.5.0",
          "state": {
            "_model_module": "@jupyter-widgets/controls",
            "_model_module_version": "1.5.0",
            "_model_name": "DescriptionStyleModel",
            "_view_count": null,
            "_view_module": "@jupyter-widgets/base",
            "_view_module_version": "1.2.0",
            "_view_name": "StyleView",
            "description_width": ""
          }
        },
        "ad7841f3911246b98271aa8813286d50": {
          "model_module": "@jupyter-widgets/base",
          "model_name": "LayoutModel",
          "model_module_version": "1.2.0",
          "state": {
            "_model_module": "@jupyter-widgets/base",
            "_model_module_version": "1.2.0",
            "_model_name": "LayoutModel",
            "_view_count": null,
            "_view_module": "@jupyter-widgets/base",
            "_view_module_version": "1.2.0",
            "_view_name": "LayoutView",
            "align_content": null,
            "align_items": null,
            "align_self": null,
            "border": null,
            "bottom": null,
            "display": null,
            "flex": null,
            "flex_flow": null,
            "grid_area": null,
            "grid_auto_columns": null,
            "grid_auto_flow": null,
            "grid_auto_rows": null,
            "grid_column": null,
            "grid_gap": null,
            "grid_row": null,
            "grid_template_areas": null,
            "grid_template_columns": null,
            "grid_template_rows": null,
            "height": null,
            "justify_content": null,
            "justify_items": null,
            "left": null,
            "margin": null,
            "max_height": null,
            "max_width": null,
            "min_height": null,
            "min_width": null,
            "object_fit": null,
            "object_position": null,
            "order": null,
            "overflow": null,
            "overflow_x": null,
            "overflow_y": null,
            "padding": null,
            "right": null,
            "top": null,
            "visibility": null,
            "width": null
          }
        },
        "de33f5941d2a4519a6a96072525e2ba2": {
          "model_module": "@jupyter-widgets/controls",
          "model_name": "ProgressStyleModel",
          "model_module_version": "1.5.0",
          "state": {
            "_model_module": "@jupyter-widgets/controls",
            "_model_module_version": "1.5.0",
            "_model_name": "ProgressStyleModel",
            "_view_count": null,
            "_view_module": "@jupyter-widgets/base",
            "_view_module_version": "1.2.0",
            "_view_name": "StyleView",
            "bar_color": null,
            "description_width": ""
          }
        },
        "57bcebf17932467e8e3961b281915ef3": {
          "model_module": "@jupyter-widgets/base",
          "model_name": "LayoutModel",
          "model_module_version": "1.2.0",
          "state": {
            "_model_module": "@jupyter-widgets/base",
            "_model_module_version": "1.2.0",
            "_model_name": "LayoutModel",
            "_view_count": null,
            "_view_module": "@jupyter-widgets/base",
            "_view_module_version": "1.2.0",
            "_view_name": "LayoutView",
            "align_content": null,
            "align_items": null,
            "align_self": null,
            "border": null,
            "bottom": null,
            "display": null,
            "flex": null,
            "flex_flow": null,
            "grid_area": null,
            "grid_auto_columns": null,
            "grid_auto_flow": null,
            "grid_auto_rows": null,
            "grid_column": null,
            "grid_gap": null,
            "grid_row": null,
            "grid_template_areas": null,
            "grid_template_columns": null,
            "grid_template_rows": null,
            "height": null,
            "justify_content": null,
            "justify_items": null,
            "left": null,
            "margin": null,
            "max_height": null,
            "max_width": null,
            "min_height": null,
            "min_width": null,
            "object_fit": null,
            "object_position": null,
            "order": null,
            "overflow": null,
            "overflow_x": null,
            "overflow_y": null,
            "padding": null,
            "right": null,
            "top": null,
            "visibility": null,
            "width": null
          }
        },
        "941fa742dc1842a49222cac3ac35b9f0": {
          "model_module": "@jupyter-widgets/controls",
          "model_name": "DescriptionStyleModel",
          "model_module_version": "1.5.0",
          "state": {
            "_model_module": "@jupyter-widgets/controls",
            "_model_module_version": "1.5.0",
            "_model_name": "DescriptionStyleModel",
            "_view_count": null,
            "_view_module": "@jupyter-widgets/base",
            "_view_module_version": "1.2.0",
            "_view_name": "StyleView",
            "description_width": ""
          }
        }
      }
    }
  },
  "cells": [
    {
      "cell_type": "code",
      "metadata": {
        "id": "_M_hIl_-C6P8",
        "colab": {
          "base_uri": "https://localhost:8080/"
        },
        "outputId": "e218fce6-92c1-49f5-af7f-ef9cdab0122d"
      },
      "source": [
        "#before running this please change the RUNTIME to GPU (Runtime -> Change runtime type -> set harware accelarotor as GPU)\n",
        "#Mount our google drive\n",
        "from google.colab import drive\n",
        "drive.mount('/content/drive')"
      ],
      "execution_count": 1,
      "outputs": [
        {
          "output_type": "stream",
          "name": "stdout",
          "text": [
            "Mounted at /content/drive\n"
          ]
        }
      ]
    },
    {
      "cell_type": "markdown",
      "metadata": {
        "id": "mneMgm9j7ack"
      },
      "source": [
        "Note : Use the drive link for the processed dataset"
      ]
    },
    {
      "cell_type": "code",
      "metadata": {
        "id": "7hlPaQS4e5VI",
        "colab": {
          "base_uri": "https://localhost:8080/"
        },
        "outputId": "b12a6228-da7b-406a-fe33-569d5f98d176"
      },
      "source": [
        "!pip3 install face_recognition"
      ],
      "execution_count": 2,
      "outputs": [
        {
          "output_type": "stream",
          "name": "stdout",
          "text": [
            "Looking in indexes: https://pypi.org/simple, https://us-python.pkg.dev/colab-wheels/public/simple/\n",
            "Collecting face_recognition\n",
            "  Downloading face_recognition-1.3.0-py2.py3-none-any.whl (15 kB)\n",
            "Requirement already satisfied: Click>=6.0 in /usr/local/lib/python3.7/dist-packages (from face_recognition) (7.1.2)\n",
            "Requirement already satisfied: Pillow in /usr/local/lib/python3.7/dist-packages (from face_recognition) (7.1.2)\n",
            "Requirement already satisfied: dlib>=19.7 in /usr/local/lib/python3.7/dist-packages (from face_recognition) (19.18.0+zzzcolab20220513001918)\n",
            "Collecting face-recognition-models>=0.3.0\n",
            "  Downloading face_recognition_models-0.3.0.tar.gz (100.1 MB)\n",
            "\u001b[K     |████████████████████████████████| 100.1 MB 23 kB/s \n",
            "\u001b[?25hRequirement already satisfied: numpy in /usr/local/lib/python3.7/dist-packages (from face_recognition) (1.21.6)\n",
            "Building wheels for collected packages: face-recognition-models\n",
            "  Building wheel for face-recognition-models (setup.py) ... \u001b[?25l\u001b[?25hdone\n",
            "  Created wheel for face-recognition-models: filename=face_recognition_models-0.3.0-py2.py3-none-any.whl size=100566186 sha256=8ad93fa7df86141784a37e2c950807d04247744b927fe5007e29c488a1c112f0\n",
            "  Stored in directory: /root/.cache/pip/wheels/d6/81/3c/884bcd5e1c120ff548d57c2ecc9ebf3281c9a6f7c0e7e7947a\n",
            "Successfully built face-recognition-models\n",
            "Installing collected packages: face-recognition-models, face-recognition\n",
            "Successfully installed face-recognition-1.3.0 face-recognition-models-0.3.0\n"
          ]
        }
      ]
    },
    {
      "cell_type": "code",
      "metadata": {
        "id": "QZ22Sj8d0JoT",
        "colab": {
          "base_uri": "https://localhost:8080/"
        },
        "outputId": "4001409f-b691-47b0-9b75-97acf2087dad"
      },
      "source": [
        "#THis code is to check if the video is corrupted or not..\n",
        "#If the video is corrupted delete the video.\n",
        "import glob\n",
        "import torch\n",
        "import torchvision\n",
        "from torchvision import transforms\n",
        "from torch.utils.data import DataLoader\n",
        "from torch.utils.data.dataset import Dataset\n",
        "import os\n",
        "import numpy as np\n",
        "import cv2\n",
        "import matplotlib.pyplot as plt\n",
        "import face_recognition\n",
        "#Check if the file is corrupted or not\n",
        "def validate_video(vid_path,train_transforms):\n",
        "      transform = train_transforms\n",
        "      count = 20\n",
        "      video_path = vid_path\n",
        "      frames = []\n",
        "      a = int(100/count)\n",
        "      first_frame = np.random.randint(0,a)\n",
        "      temp_video = video_path.split('/')[-1]\n",
        "      for i,frame in enumerate(frame_extract(video_path)):\n",
        "        frames.append(transform(frame))\n",
        "        if(len(frames) == count):\n",
        "          break\n",
        "      frames = torch.stack(frames)\n",
        "      frames = frames[:count]\n",
        "      return frames\n",
        "#extract a from from video\n",
        "def frame_extract(path):\n",
        "  vidObj = cv2.VideoCapture(path) \n",
        "  success = 1\n",
        "  while success:\n",
        "      success, image = vidObj.read()\n",
        "      if success:\n",
        "          yield image\n",
        "\n",
        "im_size = 112\n",
        "mean = [0.485, 0.456, 0.406]\n",
        "std = [0.229, 0.224, 0.225]\n",
        "\n",
        "train_transforms = transforms.Compose([\n",
        "                                        transforms.ToPILImage(),\n",
        "                                        transforms.Resize((im_size,im_size)),\n",
        "                                        transforms.ToTensor(),\n",
        "                                        transforms.Normalize(mean,std)])\n",
        "video_fil =  glob.glob('/content/drive/MyDrive/project/dataset/train_data/*.mp4')\n",
        "print(\"Total no of videos :\" , len(video_fil))\n",
        "print(video_fil)\n",
        "count = 0;\n",
        "for i in video_fil:\n",
        "  try:\n",
        "    count+=1\n",
        "    validate_video(i,train_transforms)\n",
        "  except:\n",
        "    print(\"Number of video processed: \" , count ,\" Remaining : \" , (len(video_fil) - count))\n",
        "    print(\"Corrupted video is : \" , i)\n",
        "    continue\n",
        "print((len(video_fil) - count))"
      ],
      "execution_count": 3,
      "outputs": [
        {
          "output_type": "stream",
          "name": "stdout",
          "text": [
            "Total no of videos : 373\n",
            "['/content/drive/MyDrive/project/dataset/train_data/aagfhgtpmv.mp4', '/content/drive/MyDrive/project/dataset/train_data/aapnvogymq.mp4', '/content/drive/MyDrive/project/dataset/train_data/abqwwspghj.mp4', '/content/drive/MyDrive/project/dataset/train_data/acifjvzvpm.mp4', '/content/drive/MyDrive/project/dataset/train_data/abarnvbtwb.mp4', '/content/drive/MyDrive/project/dataset/train_data/acqfdwsrhi.mp4', '/content/drive/MyDrive/project/dataset/train_data/acxwigylke.mp4', '/content/drive/MyDrive/project/dataset/train_data/adohikbdaz.mp4', '/content/drive/MyDrive/project/dataset/train_data/acxnxvbsxk.mp4', '/content/drive/MyDrive/project/dataset/train_data/aczrgyricp.mp4', '/content/drive/MyDrive/project/dataset/train_data/aelfnikyqj.mp4', '/content/drive/MyDrive/project/dataset/train_data/aettqgevhz.mp4', '/content/drive/MyDrive/project/dataset/train_data/aelzhcnwgf.mp4', '/content/drive/MyDrive/project/dataset/train_data/adylbeequz.mp4', '/content/drive/MyDrive/project/dataset/train_data/afoovlsmtx.mp4', '/content/drive/MyDrive/project/dataset/train_data/agqphdxmwt.mp4', '/content/drive/MyDrive/project/dataset/train_data/agdkmztvby.mp4', '/content/drive/MyDrive/project/dataset/train_data/agrmhtjdlk.mp4', '/content/drive/MyDrive/project/dataset/train_data/aevrfsexku.mp4', '/content/drive/MyDrive/project/dataset/train_data/ahfazfbntc.mp4', '/content/drive/MyDrive/project/dataset/train_data/ahdbuwqxit.mp4', '/content/drive/MyDrive/project/dataset/train_data/ahbweevwpv.mp4', '/content/drive/MyDrive/project/dataset/train_data/aipfdnwpoo.mp4', '/content/drive/MyDrive/project/dataset/train_data/ajqslcypsw.mp4', '/content/drive/MyDrive/project/dataset/train_data/ahqqqilsxt.mp4', '/content/drive/MyDrive/project/dataset/train_data/aknmpoonls.mp4', '/content/drive/MyDrive/project/dataset/train_data/aklqzsddfl.mp4', '/content/drive/MyDrive/project/dataset/train_data/akvmwkdyuv.mp4', '/content/drive/MyDrive/project/dataset/train_data/akxoopqjqz.mp4', '/content/drive/MyDrive/project/dataset/train_data/ajwpjhrbcv.mp4', '/content/drive/MyDrive/project/dataset/train_data/aknbdpmgua.mp4', '/content/drive/MyDrive/project/dataset/train_data/alaijyygdv.mp4', '/content/drive/MyDrive/project/dataset/train_data/alninxcyhg.mp4', '/content/drive/MyDrive/project/dataset/train_data/aladcziidp.mp4', '/content/drive/MyDrive/project/dataset/train_data/akzbnazxtz.mp4', '/content/drive/MyDrive/project/dataset/train_data/aneclqfpbt.mp4', '/content/drive/MyDrive/project/dataset/train_data/amaivqofda.mp4', '/content/drive/MyDrive/project/dataset/train_data/altziddtxi.mp4', '/content/drive/MyDrive/project/dataset/train_data/amowujxmzc.mp4', '/content/drive/MyDrive/project/dataset/train_data/alvgwypubw.mp4', '/content/drive/MyDrive/project/dataset/train_data/anpuvshzoo.mp4', '/content/drive/MyDrive/project/dataset/train_data/apatcsqejh.mp4', '/content/drive/MyDrive/project/dataset/train_data/apgjqzkoma.mp4', '/content/drive/MyDrive/project/dataset/train_data/aqpnvjhuzw.mp4', '/content/drive/MyDrive/project/dataset/train_data/arlmiizoob.mp4', '/content/drive/MyDrive/project/dataset/train_data/apogckdfrz.mp4', '/content/drive/MyDrive/project/dataset/train_data/arkroixhey.mp4', '/content/drive/MyDrive/project/dataset/train_data/arrhsnjqku.mp4', '/content/drive/MyDrive/project/dataset/train_data/asdpeebotb.mp4', '/content/drive/MyDrive/project/dataset/train_data/asmpfjfzif.mp4', '/content/drive/MyDrive/project/dataset/train_data/asaxgevnnp.mp4', '/content/drive/MyDrive/project/dataset/train_data/atkdltyyen.mp4', '/content/drive/MyDrive/project/dataset/train_data/aslsvlvpth.mp4', '/content/drive/MyDrive/project/dataset/train_data/asvcrfdpnq.mp4', '/content/drive/MyDrive/project/dataset/train_data/atzdznmder.mp4', '/content/drive/MyDrive/project/dataset/train_data/atyntldecu.mp4', '/content/drive/MyDrive/project/dataset/train_data/atxvxouljq.mp4', '/content/drive/MyDrive/project/dataset/train_data/augtsuxpzc.mp4', '/content/drive/MyDrive/project/dataset/train_data/avfitoutyn.mp4', '/content/drive/MyDrive/project/dataset/train_data/aufmsmnoye.mp4', '/content/drive/MyDrive/project/dataset/train_data/avmjormvsx.mp4', '/content/drive/MyDrive/project/dataset/train_data/avgiuextiz.mp4', '/content/drive/MyDrive/project/dataset/train_data/avnqydkqjj.mp4', '/content/drive/MyDrive/project/dataset/train_data/avibnnhwhp.mp4', '/content/drive/MyDrive/project/dataset/train_data/awnwkrqibf.mp4', '/content/drive/MyDrive/project/dataset/train_data/avywawptfc.mp4', '/content/drive/MyDrive/project/dataset/train_data/avtycwsgyb.mp4', '/content/drive/MyDrive/project/dataset/train_data/avssvvsdhz.mp4', '/content/drive/MyDrive/project/dataset/train_data/awhmfnnjih.mp4', '/content/drive/MyDrive/project/dataset/train_data/axntxmycwd.mp4', '/content/drive/MyDrive/project/dataset/train_data/awukslzjra.mp4', '/content/drive/MyDrive/project/dataset/train_data/axczxisdtb.mp4', '/content/drive/MyDrive/project/dataset/train_data/aybgughjxh.mp4', '/content/drive/MyDrive/project/dataset/train_data/axoygtekut.mp4', '/content/drive/MyDrive/project/dataset/train_data/axwovszumc.mp4', '/content/drive/MyDrive/project/dataset/train_data/azsmewqghg.mp4', '/content/drive/MyDrive/project/dataset/train_data/aytzyidmgs.mp4', '/content/drive/MyDrive/project/dataset/train_data/aybumesmpk.mp4', '/content/drive/MyDrive/project/dataset/train_data/ayqvfdhslr.mp4', '/content/drive/MyDrive/project/dataset/train_data/azpuxunqyo.mp4', '/content/drive/MyDrive/project/dataset/train_data/bbhpvrmbse.mp4', '/content/drive/MyDrive/project/dataset/train_data/bahdpoesir.mp4', '/content/drive/MyDrive/project/dataset/train_data/bchnbulevv.mp4', '/content/drive/MyDrive/project/dataset/train_data/bdbhekrrwo.mp4', '/content/drive/MyDrive/project/dataset/train_data/bbhtdfuqxq.mp4', '/content/drive/MyDrive/project/dataset/train_data/bdgipnyobr.mp4', '/content/drive/MyDrive/project/dataset/train_data/bdnaqemxmr.mp4', '/content/drive/MyDrive/project/dataset/train_data/bddjdhzfze.mp4', '/content/drive/MyDrive/project/dataset/train_data/benmsfzfaz.mp4', '/content/drive/MyDrive/project/dataset/train_data/bejhvclboh.mp4', '/content/drive/MyDrive/project/dataset/train_data/bdxuhamuqx.mp4', '/content/drive/MyDrive/project/dataset/train_data/beboztfcme.mp4', '/content/drive/MyDrive/project/dataset/train_data/beyebyhrph.mp4', '/content/drive/MyDrive/project/dataset/train_data/bgaogsjehq.mp4', '/content/drive/MyDrive/project/dataset/train_data/bffwsjxghk.mp4', '/content/drive/MyDrive/project/dataset/train_data/bghphrsfxf.mp4', '/content/drive/MyDrive/project/dataset/train_data/bggsurpgpr.mp4', '/content/drive/MyDrive/project/dataset/train_data/bguwlyazau.mp4', '/content/drive/MyDrive/project/dataset/train_data/bgmlwsoamc.mp4', '/content/drive/MyDrive/project/dataset/train_data/bgvhtpzknn.mp4', '/content/drive/MyDrive/project/dataset/train_data/bhaaboftbc.mp4', '/content/drive/MyDrive/project/dataset/train_data/bhbdugnurr.mp4', '/content/drive/MyDrive/project/dataset/train_data/bgwmmujlmc.mp4', '/content/drive/MyDrive/project/dataset/train_data/bhpwpydzpo.mp4', '/content/drive/MyDrive/project/dataset/train_data/bjkmjilrxp.mp4', '/content/drive/MyDrive/project/dataset/train_data/bjsmaqefoi.mp4', '/content/drive/MyDrive/project/dataset/train_data/bilnggbxgu.mp4', '/content/drive/MyDrive/project/dataset/train_data/bhsluedavd.mp4', '/content/drive/MyDrive/project/dataset/train_data/bkmdzhfzfh.mp4', '/content/drive/MyDrive/project/dataset/train_data/bjjbwsqjir.mp4', '/content/drive/MyDrive/project/dataset/train_data/bkwxhglwct.mp4', '/content/drive/MyDrive/project/dataset/train_data/bmbbkwmxqj.mp4', '/content/drive/MyDrive/project/dataset/train_data/blzydqdfem.mp4', '/content/drive/MyDrive/project/dataset/train_data/bkvetcojbt.mp4', '/content/drive/MyDrive/project/dataset/train_data/blpchvmhxx.mp4', '/content/drive/MyDrive/project/dataset/train_data/bmjzrlszhi.mp4', '/content/drive/MyDrive/project/dataset/train_data/bmhvktyiwp.mp4', '/content/drive/MyDrive/project/dataset/train_data/bmioepcpsx.mp4', '/content/drive/MyDrive/project/dataset/train_data/bmjmjmbglm.mp4', '/content/drive/MyDrive/project/dataset/train_data/bmehkyanbj.mp4', '/content/drive/MyDrive/project/dataset/train_data/bndybcqhfr.mp4', '/content/drive/MyDrive/project/dataset/train_data/bnjcdrfuov.mp4', '/content/drive/MyDrive/project/dataset/train_data/bnbuonyoje.mp4', '/content/drive/MyDrive/project/dataset/train_data/bntlodcfeg.mp4', '/content/drive/MyDrive/project/dataset/train_data/boovltmuwi.mp4', '/content/drive/MyDrive/project/dataset/train_data/bourlmzsio.mp4', '/content/drive/MyDrive/project/dataset/train_data/bofqajtwve.mp4', '/content/drive/MyDrive/project/dataset/train_data/bopqhhalml.mp4', '/content/drive/MyDrive/project/dataset/train_data/bqdjzqhcft.mp4', '/content/drive/MyDrive/project/dataset/train_data/bpwzipqtxf.mp4', '/content/drive/MyDrive/project/dataset/train_data/bpxckdzddv.mp4', '/content/drive/MyDrive/project/dataset/train_data/bqeiblbxtl.mp4', '/content/drive/MyDrive/project/dataset/train_data/bpapbctoao.mp4', '/content/drive/MyDrive/project/dataset/train_data/bqnymlsayl.mp4', '/content/drive/MyDrive/project/dataset/train_data/bqhtpqmmqp.mp4', '/content/drive/MyDrive/project/dataset/train_data/bqtuuwzdtr.mp4', '/content/drive/MyDrive/project/dataset/train_data/bqqpbzjgup.mp4', '/content/drive/MyDrive/project/dataset/train_data/brhalypwoo.mp4', '/content/drive/MyDrive/project/dataset/train_data/bseamdrpbj.mp4', '/content/drive/MyDrive/project/dataset/train_data/brvqtabyxj.mp4', '/content/drive/MyDrive/project/dataset/train_data/brwrlczjvi.mp4', '/content/drive/MyDrive/project/dataset/train_data/btjlfpzbdu.mp4', '/content/drive/MyDrive/project/dataset/train_data/btiysiskpf.mp4', '/content/drive/MyDrive/project/dataset/train_data/bsfmwclnqy.mp4', '/content/drive/MyDrive/project/dataset/train_data/btjwbtsgln.mp4', '/content/drive/MyDrive/project/dataset/train_data/bsqgziaylx.mp4', '/content/drive/MyDrive/project/dataset/train_data/btohlidmru.mp4', '/content/drive/MyDrive/project/dataset/train_data/btunxncpjh.mp4', '/content/drive/MyDrive/project/dataset/train_data/btugrnoton.mp4', '/content/drive/MyDrive/project/dataset/train_data/btmsngnqhv.mp4', '/content/drive/MyDrive/project/dataset/train_data/btxlttbpkj.mp4', '/content/drive/MyDrive/project/dataset/train_data/bvgwelbeof.mp4', '/content/drive/MyDrive/project/dataset/train_data/bulkxhhknf.mp4', '/content/drive/MyDrive/project/dataset/train_data/bwipwzzxxu.mp4', '/content/drive/MyDrive/project/dataset/train_data/bweezhfpzp.mp4', '/content/drive/MyDrive/project/dataset/train_data/bvzjkezkms.mp4', '/content/drive/MyDrive/project/dataset/train_data/bwuwstvsbw.mp4', '/content/drive/MyDrive/project/dataset/train_data/bwhlgysghg.mp4', '/content/drive/MyDrive/project/dataset/train_data/bxzakyopjf.mp4', '/content/drive/MyDrive/project/dataset/train_data/byfenovjnf.mp4', '/content/drive/MyDrive/project/dataset/train_data/bydaidkpdp.mp4', '/content/drive/MyDrive/project/dataset/train_data/byunigvnay.mp4', '/content/drive/MyDrive/project/dataset/train_data/byofowlkki.mp4', '/content/drive/MyDrive/project/dataset/train_data/byijojkdba.mp4', '/content/drive/MyDrive/project/dataset/train_data/byyqectxqa.mp4', '/content/drive/MyDrive/project/dataset/train_data/byqzyxifza.mp4', '/content/drive/MyDrive/project/dataset/train_data/bzythlfnhq.mp4', '/content/drive/MyDrive/project/dataset/train_data/caqbrkogkb.mp4', '/content/drive/MyDrive/project/dataset/train_data/caifxvsozs.mp4', '/content/drive/MyDrive/project/dataset/train_data/bzmdrafeex.mp4', '/content/drive/MyDrive/project/dataset/train_data/ccmonzqfrz.mp4', '/content/drive/MyDrive/project/dataset/train_data/cbbibzcoih.mp4', '/content/drive/MyDrive/project/dataset/train_data/cdaxixbosp.mp4', '/content/drive/MyDrive/project/dataset/train_data/cbltdtxglo.mp4', '/content/drive/MyDrive/project/dataset/train_data/ccfoszqabv.mp4', '/content/drive/MyDrive/project/dataset/train_data/cepxysienc.mp4', '/content/drive/MyDrive/project/dataset/train_data/cdbsbdymzd.mp4', '/content/drive/MyDrive/project/dataset/train_data/cdphtzqrvp.mp4', '/content/drive/MyDrive/project/dataset/train_data/cferslmfwh.mp4', '/content/drive/MyDrive/project/dataset/train_data/cfxkpiweqt.mp4', '/content/drive/MyDrive/project/dataset/train_data/cettndmvzl.mp4', '/content/drive/MyDrive/project/dataset/train_data/ceymbecxnj.mp4', '/content/drive/MyDrive/project/dataset/train_data/cgvrgibpfo.mp4', '/content/drive/MyDrive/project/dataset/train_data/cfyduhpbps.mp4', '/content/drive/MyDrive/project/dataset/train_data/cglxirfaey.mp4', '/content/drive/MyDrive/project/dataset/train_data/chtapglbcj.mp4', '/content/drive/MyDrive/project/dataset/train_data/chviwxsfhg.mp4', '/content/drive/MyDrive/project/dataset/train_data/ciyoudyhly.mp4', '/content/drive/MyDrive/project/dataset/train_data/chzieimrwu.mp4', '/content/drive/MyDrive/project/dataset/train_data/cksanfsjhc.mp4', '/content/drive/MyDrive/project/dataset/train_data/ckjaibzfxa.mp4', '/content/drive/MyDrive/project/dataset/train_data/cknyxaqouy.mp4', '/content/drive/MyDrive/project/dataset/train_data/cizlkenljw.mp4', '/content/drive/MyDrive/project/dataset/train_data/ckbdwedgmc.mp4', '/content/drive/MyDrive/project/dataset/train_data/ckkuyewywx.mp4', '/content/drive/MyDrive/project/dataset/train_data/cmxcfkrjiv.mp4', '/content/drive/MyDrive/project/dataset/train_data/cmbzllswnl.mp4', '/content/drive/MyDrive/project/dataset/train_data/clihsshdkq.mp4', '/content/drive/MyDrive/project/dataset/train_data/clrycekyst.mp4', '/content/drive/MyDrive/project/dataset/train_data/cnilkgvfei.mp4', '/content/drive/MyDrive/project/dataset/train_data/coadfnerlk.mp4', '/content/drive/MyDrive/project/dataset/train_data/covdcysmbi.mp4', '/content/drive/MyDrive/project/dataset/train_data/cobjrlugvp.mp4', '/content/drive/MyDrive/project/dataset/train_data/cpjxareypw.mp4', '/content/drive/MyDrive/project/dataset/train_data/cprhtltsjp.mp4', '/content/drive/MyDrive/project/dataset/train_data/cqfugiqupm.mp4', '/content/drive/MyDrive/project/dataset/train_data/cqhngvpgyi.mp4', '/content/drive/MyDrive/project/dataset/train_data/cppdvdejkc.mp4', '/content/drive/MyDrive/project/dataset/train_data/crezycjqyk.mp4', '/content/drive/MyDrive/project/dataset/train_data/crzfebnfgb.mp4', '/content/drive/MyDrive/project/dataset/train_data/crktehraph.mp4', '/content/drive/MyDrive/project/dataset/train_data/cqrskwiqng.mp4', '/content/drive/MyDrive/project/dataset/train_data/cthdnahrkh.mp4', '/content/drive/MyDrive/project/dataset/train_data/curpwogllm.mp4', '/content/drive/MyDrive/project/dataset/train_data/cttqtsjvgn.mp4', '/content/drive/MyDrive/project/dataset/train_data/ctpqeykqdp.mp4', '/content/drive/MyDrive/project/dataset/train_data/ctzmavwror.mp4', '/content/drive/MyDrive/project/dataset/train_data/cvaksbpssm.mp4', '/content/drive/MyDrive/project/dataset/train_data/cwbacdwrzo.mp4', '/content/drive/MyDrive/project/dataset/train_data/cuzrgrbvil.mp4', '/content/drive/MyDrive/project/dataset/train_data/cwsbspfzck.mp4', '/content/drive/MyDrive/project/dataset/train_data/cwwandrkus.mp4', '/content/drive/MyDrive/project/dataset/train_data/cwrtyzndpx.mp4', '/content/drive/MyDrive/project/dataset/train_data/cyboodqqyr.mp4', '/content/drive/MyDrive/project/dataset/train_data/cxfujlvsuw.mp4', '/content/drive/MyDrive/project/dataset/train_data/cxrfacemmq.mp4', '/content/drive/MyDrive/project/dataset/train_data/cxttmymlbn.mp4', '/content/drive/MyDrive/project/dataset/train_data/czfunozvwp.mp4', '/content/drive/MyDrive/project/dataset/train_data/cyclgfjdrv.mp4', '/content/drive/MyDrive/project/dataset/train_data/czkdanyadc.mp4', '/content/drive/MyDrive/project/dataset/train_data/dafhtipaml.mp4', '/content/drive/MyDrive/project/dataset/train_data/cyxlcuyznd.mp4', '/content/drive/MyDrive/project/dataset/train_data/dakqwktlbi.mp4', '/content/drive/MyDrive/project/dataset/train_data/dakiztgtnw.mp4', '/content/drive/MyDrive/project/dataset/train_data/dbhoxkblzx.mp4', '/content/drive/MyDrive/project/dataset/train_data/dbnygxtwek.mp4', '/content/drive/MyDrive/project/dataset/train_data/dbhrpizyeq.mp4', '/content/drive/MyDrive/project/dataset/train_data/dbtbbhakdv.mp4', '/content/drive/MyDrive/project/dataset/train_data/dbzcqmxzaj.mp4', '/content/drive/MyDrive/project/dataset/train_data/dboxtiehng.mp4', '/content/drive/MyDrive/project/dataset/train_data/dcamvmuors.mp4', '/content/drive/MyDrive/project/dataset/train_data/dbzpcjntve.mp4', '/content/drive/MyDrive/project/dataset/train_data/ddjggcasdw.mp4', '/content/drive/MyDrive/project/dataset/train_data/ddepeddixj.mp4', '/content/drive/MyDrive/project/dataset/train_data/ddhfabwpuz.mp4', '/content/drive/MyDrive/project/dataset/train_data/dcuiiorugd.mp4', '/content/drive/MyDrive/project/dataset/train_data/ddqccgmtka.mp4', '/content/drive/MyDrive/project/dataset/train_data/deyyistcrd.mp4', '/content/drive/MyDrive/project/dataset/train_data/ddpvuimigj.mp4', '/content/drive/MyDrive/project/dataset/train_data/degpbqvcay.mp4', '/content/drive/MyDrive/project/dataset/train_data/deywhkarol.mp4', '/content/drive/MyDrive/project/dataset/train_data/dgxrqjdomn.mp4', '/content/drive/MyDrive/project/dataset/train_data/dgzklxjmix.mp4', '/content/drive/MyDrive/project/dataset/train_data/dfbpceeaox.mp4', '/content/drive/MyDrive/project/dataset/train_data/dgmevclvzy.mp4', '/content/drive/MyDrive/project/dataset/train_data/dhcndnuwta.mp4', '/content/drive/MyDrive/project/dataset/train_data/dhcselezer.mp4', '/content/drive/MyDrive/project/dataset/train_data/dhjmzhrcav.mp4', '/content/drive/MyDrive/project/dataset/train_data/dhevettufk.mp4', '/content/drive/MyDrive/project/dataset/train_data/diopzaywor.mp4', '/content/drive/MyDrive/project/dataset/train_data/dhxctgyoqj.mp4', '/content/drive/MyDrive/project/dataset/train_data/diomeixhrg.mp4', '/content/drive/MyDrive/project/dataset/train_data/dhkwmjxwrn.mp4', '/content/drive/MyDrive/project/dataset/train_data/diqraixiov.mp4', '/content/drive/MyDrive/project/dataset/train_data/diuzrpqjli.mp4', '/content/drive/MyDrive/project/dataset/train_data/djvtbgwdcc.mp4', '/content/drive/MyDrive/project/dataset/train_data/djxdyjopjd.mp4', '/content/drive/MyDrive/project/dataset/train_data/dkdwxmtpuo.mp4', '/content/drive/MyDrive/project/dataset/train_data/dkrvorliqc.mp4', '/content/drive/MyDrive/project/dataset/train_data/dkwjwbwgey.mp4', '/content/drive/MyDrive/project/dataset/train_data/dkuayagnmc.mp4', '/content/drive/MyDrive/project/dataset/train_data/dlrsbscitn.mp4', '/content/drive/MyDrive/project/dataset/train_data/dlpoieqvfb.mp4', '/content/drive/MyDrive/project/dataset/train_data/dnexlwbcxq.mp4', '/content/drive/MyDrive/project/dataset/train_data/dofusvhnib.mp4', '/content/drive/MyDrive/project/dataset/train_data/dozyddhild.mp4', '/content/drive/MyDrive/project/dataset/train_data/dnyvfblxpm.mp4', '/content/drive/MyDrive/project/dataset/train_data/doanjploai.mp4', '/content/drive/MyDrive/project/dataset/train_data/dntkzzzcdh.mp4', '/content/drive/MyDrive/project/dataset/train_data/dqppxmoqdl.mp4', '/content/drive/MyDrive/project/dataset/train_data/dptrzdvwpg.mp4', '/content/drive/MyDrive/project/dataset/train_data/dqqtjcryjv.mp4', '/content/drive/MyDrive/project/dataset/train_data/dptbnjnkdg.mp4', '/content/drive/MyDrive/project/dataset/train_data/dqzreruvje.mp4', '/content/drive/MyDrive/project/dataset/train_data/dqswpjoepo.mp4', '/content/drive/MyDrive/project/dataset/train_data/drgjzlxzxj.mp4', '/content/drive/MyDrive/project/dataset/train_data/drcyabprvt.mp4', '/content/drive/MyDrive/project/dataset/train_data/drtbksnpol.mp4', '/content/drive/MyDrive/project/dataset/train_data/dsdoseflas.mp4', '/content/drive/MyDrive/project/dataset/train_data/dsjbknkujw.mp4', '/content/drive/MyDrive/project/dataset/train_data/dsgpbgsrdm.mp4', '/content/drive/MyDrive/project/dataset/train_data/drsakwyvqv.mp4', '/content/drive/MyDrive/project/dataset/train_data/dtbpmdqvao.mp4', '/content/drive/MyDrive/project/dataset/train_data/dulanfulol.mp4', '/content/drive/MyDrive/project/dataset/train_data/dsndhujjjb.mp4', '/content/drive/MyDrive/project/dataset/train_data/dtocdfbwca.mp4', '/content/drive/MyDrive/project/dataset/train_data/dubiroskqn.mp4', '/content/drive/MyDrive/project/dataset/train_data/dvakowbgbt.mp4', '/content/drive/MyDrive/project/dataset/train_data/duvyaxbzvp.mp4', '/content/drive/MyDrive/project/dataset/train_data/duycddgtrl.mp4', '/content/drive/MyDrive/project/dataset/train_data/duzuusuajr.mp4', '/content/drive/MyDrive/project/dataset/train_data/dvumqqhoac.mp4', '/content/drive/MyDrive/project/dataset/train_data/dxbqjxrhin.mp4', '/content/drive/MyDrive/project/dataset/train_data/dxuplhwvig.mp4', '/content/drive/MyDrive/project/dataset/train_data/dxuliowugt.mp4', '/content/drive/MyDrive/project/dataset/train_data/dwediigjit.mp4', '/content/drive/MyDrive/project/dataset/train_data/dzieklokdr.mp4', '/content/drive/MyDrive/project/dataset/train_data/dzwkmcwkwl.mp4', '/content/drive/MyDrive/project/dataset/train_data/dzvyfiarrq.mp4', '/content/drive/MyDrive/project/dataset/train_data/dzyuwjkjui.mp4', '/content/drive/MyDrive/project/dataset/train_data/dzqwgqewhu.mp4', '/content/drive/MyDrive/project/dataset/train_data/ebchwmwayp.mp4', '/content/drive/MyDrive/project/dataset/train_data/ebebgmtlcu.mp4', '/content/drive/MyDrive/project/dataset/train_data/eajlrktemq.mp4', '/content/drive/MyDrive/project/dataset/train_data/eahlqmfvtj.mp4', '/content/drive/MyDrive/project/dataset/train_data/ebkzwjgjhq.mp4', '/content/drive/MyDrive/project/dataset/train_data/ebywfrmhtd.mp4', '/content/drive/MyDrive/project/dataset/train_data/eckvhdusax.mp4', '/content/drive/MyDrive/project/dataset/train_data/eczrseixwq.mp4', '/content/drive/MyDrive/project/dataset/train_data/ecnihjlfyt.mp4', '/content/drive/MyDrive/project/dataset/train_data/ecujsjhscd.mp4', '/content/drive/MyDrive/project/dataset/train_data/ecuvtoltue.mp4', '/content/drive/MyDrive/project/dataset/train_data/ecwaxgutkc.mp4', '/content/drive/MyDrive/project/dataset/train_data/eebserckhh.mp4', '/content/drive/MyDrive/project/dataset/train_data/eebrkicpry.mp4', '/content/drive/MyDrive/project/dataset/train_data/eekozbeafq.mp4', '/content/drive/MyDrive/project/dataset/train_data/edyncaijwx.mp4', '/content/drive/MyDrive/project/dataset/train_data/eejswgycjc.mp4', '/content/drive/MyDrive/project/dataset/train_data/egbbcxcuqy.mp4', '/content/drive/MyDrive/project/dataset/train_data/eeyhxisdfh.mp4', '/content/drive/MyDrive/project/dataset/train_data/efdyrflcpg.mp4', '/content/drive/MyDrive/project/dataset/train_data/efwfxwwlbw.mp4', '/content/drive/MyDrive/project/dataset/train_data/eepezmygaq.mp4', '/content/drive/MyDrive/project/dataset/train_data/egghxjjmfg.mp4', '/content/drive/MyDrive/project/dataset/train_data/ehbnclaukr.mp4', '/content/drive/MyDrive/project/dataset/train_data/eggbjzxnmg.mp4', '/content/drive/MyDrive/project/dataset/train_data/ehdkmxgtxh.mp4', '/content/drive/MyDrive/project/dataset/train_data/ehevsxtecd.mp4', '/content/drive/MyDrive/project/dataset/train_data/ehccixxzoe.mp4', '/content/drive/MyDrive/project/dataset/train_data/ehieahnhte.mp4', '/content/drive/MyDrive/project/dataset/train_data/eiwopxzjfn.mp4', '/content/drive/MyDrive/project/dataset/train_data/ehtdtkmmli.mp4', '/content/drive/MyDrive/project/dataset/train_data/eixwxvxbbn.mp4', '/content/drive/MyDrive/project/dataset/train_data/eivxffliio.mp4', '/content/drive/MyDrive/project/dataset/train_data/eiriyukqqy.mp4', '/content/drive/MyDrive/project/dataset/train_data/ekcrtigpab.mp4', '/content/drive/MyDrive/project/dataset/train_data/ekhacizpah.mp4', '/content/drive/MyDrive/project/dataset/train_data/ejkqesyvam.mp4', '/content/drive/MyDrive/project/dataset/train_data/elginszwtk.mp4', '/content/drive/MyDrive/project/dataset/train_data/ekkdjkirzq.mp4', '/content/drive/MyDrive/project/dataset/train_data/elvvackpjh.mp4', '/content/drive/MyDrive/project/dataset/train_data/emaalmsonj.mp4', '/content/drive/MyDrive/project/dataset/train_data/ellavthztb.mp4', '/content/drive/MyDrive/project/dataset/train_data/eprybmbpba.mp4', '/content/drive/MyDrive/project/dataset/train_data/emgjphonqb.mp4', '/content/drive/MyDrive/project/dataset/train_data/ensyyivobf.mp4', '/content/drive/MyDrive/project/dataset/train_data/emfbhytfhc.mp4', '/content/drive/MyDrive/project/dataset/train_data/erlvuvjsjf.mp4', '/content/drive/MyDrive/project/dataset/train_data/eqjscdagiv.mp4', '/content/drive/MyDrive/project/dataset/train_data/eqvuznuwsa.mp4', '/content/drive/MyDrive/project/dataset/train_data/eqnoqyfquo.mp4', '/content/drive/MyDrive/project/dataset/train_data/esgftaficx.mp4', '/content/drive/MyDrive/project/dataset/train_data/erqgqacbqe.mp4', '/content/drive/MyDrive/project/dataset/train_data/esnntzzajv.mp4', '/content/drive/MyDrive/project/dataset/train_data/errocgcham.mp4', '/content/drive/MyDrive/project/dataset/train_data/etejaapnxh.mp4', '/content/drive/MyDrive/project/dataset/train_data/esxrvsgpvb.mp4', '/content/drive/MyDrive/project/dataset/train_data/esyrimvzsa.mp4', '/content/drive/MyDrive/project/dataset/train_data/etdcqxabww.mp4', '/content/drive/MyDrive/project/dataset/train_data/etohcvnzbj.mp4', '/content/drive/MyDrive/project/dataset/train_data/etmcruaihe.mp4', '/content/drive/MyDrive/project/dataset/train_data/eudeqjhdfd.mp4', '/content/drive/MyDrive/project/dataset/train_data/eukvucdetx.mp4']\n",
            "0\n"
          ]
        }
      ]
    },
    {
      "cell_type": "code",
      "metadata": {
        "id": "CEIygy8uDFXc",
        "colab": {
          "base_uri": "https://localhost:8080/"
        },
        "outputId": "42a6b8dc-7754-4b41-d81c-dec57aefd510"
      },
      "source": [
        "#to load preprocessod video to memory\n",
        "import json\n",
        "import glob\n",
        "import numpy as np\n",
        "import cv2\n",
        "import copy\n",
        "import random\n",
        "video_files =  glob.glob('/content/drive/MyDrive/project/dataset/train_data/*.mp4')\n",
        "random.shuffle(video_files)\n",
        "frame_count = []\n",
        "for video_file in video_files:\n",
        "  cap = cv2.VideoCapture(video_file)\n",
        "  if(int(cap.get(cv2.CAP_PROP_FRAME_COUNT))<100):\n",
        "    video_files.remove(video_file)\n",
        "    continue\n",
        "  frame_count.append(int(cap.get(cv2.CAP_PROP_FRAME_COUNT)))\n",
        "print(\"frames are \" , frame_count)\n",
        "print(\"Total no of video: \" , len(frame_count))\n",
        "print('Average frame per video:',np.mean(frame_count))"
      ],
      "execution_count": 4,
      "outputs": [
        {
          "output_type": "stream",
          "name": "stdout",
          "text": [
            "frames are  [148, 148, 148, 148, 148, 148, 148, 148, 148, 148, 148, 148, 148, 148, 148, 148, 148, 148, 148, 148, 148, 148, 148, 148, 148, 148, 148, 148, 148, 148, 148, 148, 148, 148, 148, 148, 148, 148, 148, 148, 148, 148, 148, 148, 148, 148, 148, 148, 148, 148, 148, 148, 148, 148, 148, 148, 148, 148, 148, 148, 148, 148, 148, 148, 148, 148, 148, 148, 148, 148, 148, 148, 148, 148, 148, 148, 148, 148, 148, 148, 148, 148, 148, 148, 148, 148, 148, 148, 144, 148, 148, 148, 148, 148, 148, 148, 148, 148, 148, 148, 148, 148, 148, 148, 148, 148, 148, 148, 148, 148, 148, 148, 148, 148, 148, 148, 148, 148, 148, 148, 148, 148, 148, 148, 148, 148, 148, 148, 148, 148, 148, 148, 148, 148, 148, 148, 148, 148, 148, 148, 148, 148, 148, 148, 148, 148, 148, 148, 148, 148, 148, 148, 148, 148, 148, 148, 148, 148, 148, 148, 148, 148, 148, 148, 148, 148, 148, 148, 148, 148, 148, 148, 148, 148, 148, 148, 148, 148, 148, 148, 148, 148, 148, 148, 148, 148, 148, 148, 148, 148, 148, 148, 148, 148, 148, 148, 148, 148, 148, 148, 148, 148, 148, 148, 148, 148, 148, 148, 148, 148, 148, 148, 148, 148, 148, 148, 148, 148, 148, 148, 148, 148, 148, 148, 148, 148, 148, 148, 148, 148, 148, 148, 148, 148, 148, 148, 148, 148, 148, 148, 148, 148, 148, 148, 148, 148, 148, 148, 148, 148, 148, 148, 128, 148, 148, 148, 148, 148, 148, 148, 148, 148, 148, 148, 148, 148, 148, 148, 148, 148, 148, 148, 148, 148, 148, 148, 148, 148, 148, 148, 148, 148, 148, 148, 148, 148, 148, 148, 148, 148, 148, 148, 148, 148, 148, 148, 148, 148, 148, 148, 148, 148, 148, 148, 148, 148, 148, 148, 148, 148, 148, 148, 148, 148, 148, 148, 148, 148, 148, 148, 148, 142, 148, 148, 148, 148, 148, 148, 148, 148, 148, 148, 148, 148, 148, 148, 148, 148, 148, 148, 148, 148, 148, 148, 148, 148, 148, 148, 148, 148, 148, 148, 148, 148, 148, 148, 148, 148, 148, 148, 148, 148, 148, 148, 148, 148, 148, 148, 148, 148, 148]\n",
            "Total no of video:  371\n",
            "Average frame per video: 147.9191374663073\n"
          ]
        }
      ]
    },
    {
      "cell_type": "code",
      "metadata": {
        "id": "OqGXNkqhDKZU"
      },
      "source": [
        "# load the video name and labels from csv\n",
        "import torch\n",
        "import torchvision\n",
        "from torchvision import transforms\n",
        "from torch.utils.data import DataLoader\n",
        "from torch.utils.data.dataset import Dataset\n",
        "import os\n",
        "import numpy as np\n",
        "import cv2\n",
        "import matplotlib.pyplot as plt\n",
        "import face_recognition\n",
        "class video_dataset(Dataset):\n",
        "    def __init__(self,video_names,labels,sequence_length = 60,transform = None):\n",
        "        self.video_names = video_names\n",
        "        self.labels = labels\n",
        "        self.transform = transform\n",
        "        self.count = sequence_length\n",
        "    def __len__(self):\n",
        "        return len(self.video_names)\n",
        "    def __getitem__(self,idx):\n",
        "        video_path = self.video_names[idx]\n",
        "        frames = []\n",
        "        a = int(100/self.count)\n",
        "        first_frame = np.random.randint(0,a)\n",
        "        temp_video = video_path.split('/')[-1]\n",
        "        #print(temp_video)\n",
        "        label = self.labels.iloc[(labels.loc[labels[\"file\"] == temp_video].index.values[0]),1]\n",
        "        if(label == 'FAKE'):\n",
        "          label = 0\n",
        "        if(label == 'REAL'):\n",
        "          label = 1\n",
        "        for i,frame in enumerate(self.frame_extract(video_path)):\n",
        "          frames.append(self.transform(frame))\n",
        "          if(len(frames) == self.count):\n",
        "            break\n",
        "        frames = torch.stack(frames)\n",
        "        frames = frames[:self.count]\n",
        "        #print(\"length:\" , len(frames), \"label\",label)\n",
        "        return frames,label\n",
        "    def frame_extract(self,path):\n",
        "      vidObj = cv2.VideoCapture(path) \n",
        "      success = 1\n",
        "      while success:\n",
        "          success, image = vidObj.read()\n",
        "          if success:\n",
        "              yield image\n",
        "#plot the image\n",
        "def im_plot(tensor):\n",
        "    image = tensor.cpu().numpy().transpose(1,2,0)\n",
        "    b,g,r = cv2.split(image)\n",
        "    image = cv2.merge((r,g,b))\n",
        "    image = image*[0.22803, 0.22145, 0.216989] +  [0.43216, 0.394666, 0.37645]\n",
        "    image = image*255.0\n",
        "    plt.imshow(image.astype(int))\n",
        "    plt.show()"
      ],
      "execution_count": 5,
      "outputs": []
    },
    {
      "cell_type": "code",
      "metadata": {
        "id": "1leMozhXa5LF"
      },
      "source": [
        "#count the number of fake and real videos\n",
        "def number_of_real_and_fake_videos(data_list):\n",
        "  header_list = [\"file\",\"label\"]\n",
        "  lab = pd.read_csv('/content/drive/MyDrive/project/dataset/train_data/train.csv',names=header_list)\n",
        "  fake = 0\n",
        "  real = 0\n",
        "  for i in data_list:\n",
        "    temp_video = i.split('/')[-1]\n",
        "    label = lab.iloc[(labels.loc[labels[\"file\"] == temp_video].index.values[0]),1]\n",
        "    if(label == 'FAKE'):\n",
        "      fake+=1\n",
        "    if(label == 'REAL'):\n",
        "      real+=1\n",
        "  return real,fake"
      ],
      "execution_count": 6,
      "outputs": []
    },
    {
      "cell_type": "code",
      "metadata": {
        "id": "sWMZn0YHDO2b",
        "colab": {
          "base_uri": "https://localhost:8080/",
          "height": 416
        },
        "outputId": "3a7ff704-51f0-4e20-b43b-b302cf73e791"
      },
      "source": [
        "# load the labels and video in data loader\n",
        "import random\n",
        "import pandas as pd\n",
        "from sklearn.model_selection import train_test_split\n",
        "\n",
        "header_list = [\"file\",\"label\"]\n",
        "labels = pd.read_csv('/content/drive/MyDrive/project/dataset/train_data/train.csv',names=header_list)\n",
        "#print(labels)\n",
        "train_videos = video_files[:int(0.8*len(video_files))]\n",
        "valid_videos = video_files[int(0.8*len(video_files)):]\n",
        "print(\"train : \" , len(train_videos))\n",
        "print(\"test : \" , len(valid_videos))\n",
        "# train_videos,valid_videos = train_test_split(data,test_size = 0.2)\n",
        "# print(train_videos)\n",
        "\n",
        "print(\"TRAIN: \", \"Real:\",number_of_real_and_fake_videos(train_videos)[0],\" Fake:\",number_of_real_and_fake_videos(train_videos)[1])\n",
        "print(\"TEST: \", \"Real:\",number_of_real_and_fake_videos(valid_videos)[0],\" Fake:\",number_of_real_and_fake_videos(valid_videos)[1])\n",
        "\n",
        "\n",
        "im_size = 112\n",
        "mean = [0.485, 0.456, 0.406]\n",
        "std = [0.229, 0.224, 0.225]\n",
        "\n",
        "train_transforms = transforms.Compose([\n",
        "                                        transforms.ToPILImage(),\n",
        "                                        transforms.Resize((im_size,im_size)),\n",
        "                                        transforms.ToTensor(),\n",
        "                                        transforms.Normalize(mean,std)])\n",
        "\n",
        "test_transforms = transforms.Compose([\n",
        "                                        transforms.ToPILImage(),\n",
        "                                        transforms.Resize((im_size,im_size)),\n",
        "                                        transforms.ToTensor(),\n",
        "                                        transforms.Normalize(mean,std)])\n",
        "train_data = video_dataset(train_videos,labels,sequence_length = 10,transform = train_transforms)\n",
        "#print(train_data)\n",
        "val_data = video_dataset(valid_videos,labels,sequence_length = 10,transform = train_transforms)\n",
        "train_loader = DataLoader(train_data,batch_size = 4,shuffle = True,num_workers = 4)\n",
        "valid_loader = DataLoader(val_data,batch_size = 4,shuffle = True,num_workers = 4)\n",
        "image,label = train_data[0]\n",
        "im_plot(image[0,:,:,:])"
      ],
      "execution_count": 7,
      "outputs": [
        {
          "output_type": "stream",
          "name": "stdout",
          "text": [
            "train :  297\n",
            "test :  75\n"
          ]
        },
        {
          "output_type": "stream",
          "name": "stderr",
          "text": [
            "/usr/local/lib/python3.7/dist-packages/torch/utils/data/dataloader.py:490: UserWarning: This DataLoader will create 4 worker processes in total. Our suggested max number of worker in current system is 2, which is smaller than what this DataLoader is going to create. Please be aware that excessive worker creation might get DataLoader running slow or even freeze, lower the worker number to avoid potential slowness/freeze if necessary.\n",
            "  cpuset_checked))\n",
            "Clipping input data to the valid range for imshow with RGB data ([0..1] for floats or [0..255] for integers).\n"
          ]
        },
        {
          "output_type": "stream",
          "name": "stdout",
          "text": [
            "TRAIN:  Real: 58  Fake: 239\n",
            "TEST:  Real: 17  Fake: 58\n"
          ]
        },
        {
          "output_type": "display_data",
          "data": {
            "text/plain": [
              "<Figure size 432x288 with 1 Axes>"
            ],
            "image/png": "[encoded data removed]"
          },
          "metadata": {
            "needs_background": "light"
          }
        }
      ]
    },
    {
      "cell_type": "code",
      "metadata": {
        "id": "UtOXSqyBDRnD"
      },
      "source": [
        "#Model with feature visualization\n",
        "from torch import nn\n",
        "from torchvision import models\n",
        "class Model(nn.Module):\n",
        "    def __init__(self, num_classes,latent_dim= 2048, lstm_layers=1 , hidden_dim = 2048, bidirectional = False):\n",
        "        super(Model, self).__init__()\n",
        "        model = models.resnext50_32x4d(pretrained = True) #Residual Network CNN\n",
        "        self.model = nn.Sequential(*list(model.children())[:-2])\n",
        "        self.lstm = nn.LSTM(latent_dim,hidden_dim, lstm_layers,  bidirectional)\n",
        "        self.relu = nn.LeakyReLU()\n",
        "        self.dp = nn.Dropout(0.4)\n",
        "        self.linear1 = nn.Linear(2048,num_classes)\n",
        "        self.avgpool = nn.AdaptiveAvgPool2d(1)\n",
        "    def forward(self, x):\n",
        "        batch_size,seq_length, c, h, w = x.shape\n",
        "        x = x.view(batch_size * seq_length, c, h, w)\n",
        "        fmap = self.model(x)\n",
        "        x = self.avgpool(fmap)\n",
        "        x = x.view(batch_size,seq_length,2048)\n",
        "        x_lstm,_ = self.lstm(x,None)\n",
        "        return fmap,self.dp(self.linear1(torch.mean(x_lstm,dim = 1)))"
      ],
      "execution_count": 8,
      "outputs": []
    },
    {
      "cell_type": "code",
      "metadata": {
        "id": "WYNhn10tDV90",
        "colab": {
          "base_uri": "https://localhost:8080/",
          "height": 87,
          "referenced_widgets": [
            "113f0cab1f3342799082152a3db13cb4",
            "bc1cc036d63c49009d2ce30d325ad4e1",
            "569feed97bdc4972af9d9e7b0eae9cd9",
            "f15825c691b4428d951a44864d1bfa80",
            "e653aad873c646f880021150dc166430",
            "a4785042d28a465f8fdbe28825850359",
            "d42a934d74bf46839b3534ba017d357e",
            "ad7841f3911246b98271aa8813286d50",
            "de33f5941d2a4519a6a96072525e2ba2",
            "57bcebf17932467e8e3961b281915ef3",
            "941fa742dc1842a49222cac3ac35b9f0"
          ]
        },
        "outputId": "28ac684a-5760-47d2-8c64-07111bafbd77"
      },
      "source": [
        "model = Model(2).cuda()\n",
        "a,b = model(torch.from_numpy(np.empty((1,20,3,112,112))).type(torch.cuda.FloatTensor))"
      ],
      "execution_count": 9,
      "outputs": [
        {
          "output_type": "stream",
          "name": "stderr",
          "text": [
            "Downloading: \"https://download.pytorch.org/models/resnext50_32x4d-7cdf4587.pth\" to /root/.cache/torch/hub/checkpoints/resnext50_32x4d-7cdf4587.pth\n"
          ]
        },
        {
          "output_type": "display_data",
          "data": {
            "text/plain": [
              "  0%|          | 0.00/95.8M [00:00<?, ?B/s]"
            ],
            "application/vnd.jupyter.widget-view+json": {
              "version_major": 2,
              "version_minor": 0,
              "model_id": "113f0cab1f3342799082152a3db13cb4"
            }
          },
          "metadata": {}
        }
      ]
    },
    {
      "cell_type": "code",
      "metadata": {
        "id": "FKheLUWBDaNN"
      },
      "source": [
        "import torch\n",
        "from torch.autograd import Variable\n",
        "import time\n",
        "import os\n",
        "import sys\n",
        "import os\n",
        "def train_epoch(epoch, num_epochs, data_loader, model, criterion, optimizer):\n",
        "    model.train()\n",
        "    losses = AverageMeter()\n",
        "    accuracies = AverageMeter()\n",
        "    t = []\n",
        "    for i, (inputs, targets) in enumerate(data_loader):\n",
        "        if torch.cuda.is_available():\n",
        "            targets = targets.type(torch.cuda.LongTensor)\n",
        "            inputs = inputs.cuda()\n",
        "        _,outputs = model(inputs)\n",
        "        loss  = criterion(outputs,targets.type(torch.cuda.LongTensor))\n",
        "        acc = calculate_accuracy(outputs, targets.type(torch.cuda.LongTensor))\n",
        "        losses.update(loss.item(), inputs.size(0))\n",
        "        accuracies.update(acc, inputs.size(0))\n",
        "        optimizer.zero_grad()\n",
        "        loss.backward()\n",
        "        optimizer.step()\n",
        "        sys.stdout.write(\n",
        "                \"\\r[Epoch %d/%d] [Batch %d / %d] [Loss: %f, Acc: %.2f%%]\"\n",
        "                % (\n",
        "                    epoch,\n",
        "                    num_epochs,\n",
        "                    i,\n",
        "                    len(data_loader),\n",
        "                    losses.avg,\n",
        "                    accuracies.avg))\n",
        "    torch.save(model.state_dict(),'/content/drive/MyDrive/project/final/checkpoint_new.pt')\n",
        "    return losses.avg,accuracies.avg\n",
        "def test(epoch,model, data_loader ,criterion):\n",
        "    print('Testing')\n",
        "    model.eval()\n",
        "    losses = AverageMeter()\n",
        "    accuracies = AverageMeter()\n",
        "    pred = []\n",
        "    true = []\n",
        "    count = 0\n",
        "    with torch.no_grad():\n",
        "        for i, (inputs, targets) in enumerate(data_loader):\n",
        "            if torch.cuda.is_available():\n",
        "                targets = targets.cuda().type(torch.cuda.FloatTensor)\n",
        "                inputs = inputs.cuda()\n",
        "            _,outputs = model(inputs)\n",
        "            loss = torch.mean(criterion(outputs, targets.type(torch.cuda.LongTensor)))\n",
        "            acc = calculate_accuracy(outputs,targets.type(torch.cuda.LongTensor))\n",
        "            _,p = torch.max(outputs,1) \n",
        "            true += (targets.type(torch.cuda.LongTensor)).detach().cpu().numpy().reshape(len(targets)).tolist()\n",
        "            pred += p.detach().cpu().numpy().reshape(len(p)).tolist()\n",
        "            losses.update(loss.item(), inputs.size(0))\n",
        "            accuracies.update(acc, inputs.size(0))\n",
        "            sys.stdout.write(\n",
        "                    \"\\r[Batch %d / %d]  [Loss: %f, Acc: %.2f%%]\"\n",
        "                    % (\n",
        "                        i,\n",
        "                        len(data_loader),\n",
        "                        losses.avg,\n",
        "                        accuracies.avg\n",
        "                        )\n",
        "                    )\n",
        "        print('\\nAccuracy {}'.format(accuracies.avg))\n",
        "    return true,pred,losses.avg,accuracies.avg\n",
        "class AverageMeter(object):\n",
        "    \"\"\"Computes and stores the average and current value\"\"\"\n",
        "    def __init__(self):\n",
        "        self.reset()\n",
        "    def reset(self):\n",
        "        self.val = 0\n",
        "        self.avg = 0\n",
        "        self.sum = 0\n",
        "        self.count = 0\n",
        "\n",
        "    def update(self, val, n=1):\n",
        "        self.val = val\n",
        "        self.sum += val * n\n",
        "        self.count += n\n",
        "        self.avg = self.sum / self.count\n",
        "def calculate_accuracy(outputs, targets):\n",
        "    batch_size = targets.size(0)\n",
        "\n",
        "    _, pred = outputs.topk(1, 1, True)\n",
        "    pred = pred.t()\n",
        "    correct = pred.eq(targets.view(1, -1))\n",
        "    n_correct_elems = correct.float().sum().item()\n",
        "    return 100* n_correct_elems / batch_size"
      ],
      "execution_count": 11,
      "outputs": []
    },
    {
      "cell_type": "code",
      "metadata": {
        "id": "b8WneBZNfysN"
      },
      "source": [
        "import seaborn as sn\n",
        "#Output confusion matrix\n",
        "def print_confusion_matrix(y_true, y_pred):\n",
        "    cm = confusion_matrix(y_true, y_pred)\n",
        "    print('True positive = ', cm[0][0])\n",
        "    print('False positive = ', cm[0][1])\n",
        "    print('False negative = ', cm[1][0])\n",
        "    print('True negative = ', cm[1][1])\n",
        "    print('\\n')\n",
        "    df_cm = pd.DataFrame(cm, range(2), range(2))\n",
        "    sn.set(font_scale=1.4) # for label size\n",
        "    sn.heatmap(df_cm, annot=True, annot_kws={\"size\": 16}) # font size\n",
        "    plt.ylabel('Actual label', size = 20)\n",
        "    plt.xlabel('Predicted label', size = 20)\n",
        "    plt.xticks(np.arange(2), ['Fake', 'Real'], size = 16)\n",
        "    plt.yticks(np.arange(2), ['Fake', 'Real'], size = 16)\n",
        "    plt.ylim([2, 0])\n",
        "    plt.show()\n",
        "    calculated_acc = (cm[0][0]+cm[1][1])/(cm[0][0]+cm[0][1]+cm[1][0]+ cm[1][1])\n",
        "    print(\"Calculated Accuracy\",calculated_acc*100)"
      ],
      "execution_count": 12,
      "outputs": []
    },
    {
      "cell_type": "code",
      "metadata": {
        "id": "fExJLjt2AtV9"
      },
      "source": [
        "def plot_loss(train_loss_avg,test_loss_avg,num_epochs):\n",
        "  loss_train = train_loss_avg\n",
        "  loss_val = test_loss_avg\n",
        "  print(num_epochs)\n",
        "  epochs = range(1,num_epochs+1)\n",
        "  plt.plot(epochs, loss_train, 'g', label='Training loss')\n",
        "  plt.plot(epochs, loss_val, 'b', label='validation loss')\n",
        "  plt.title('Training and Validation loss')\n",
        "  plt.xlabel('Epochs')\n",
        "  plt.ylabel('Loss')\n",
        "  plt.legend()\n",
        "  plt.show()\n",
        "def plot_accuracy(train_accuracy,test_accuracy,num_epochs):\n",
        "  loss_train = train_accuracy\n",
        "  loss_val = test_accuracy\n",
        "  epochs = range(1,num_epochs+1)\n",
        "  plt.plot(epochs, loss_train, 'g', label='Training accuracy')\n",
        "  plt.plot(epochs, loss_val, 'b', label='validation accuracy')\n",
        "  plt.title('Training and Validation accuracy')\n",
        "  plt.xlabel('Epochs')\n",
        "  plt.ylabel('Accuracy')\n",
        "  plt.legend()\n",
        "  plt.show()"
      ],
      "execution_count": 13,
      "outputs": []
    },
    {
      "cell_type": "code",
      "metadata": {
        "id": "rUe1XrYnDdit",
        "colab": {
          "base_uri": "https://localhost:8080/",
          "height": 1000
        },
        "outputId": "efc26db5-e782-47ab-e79d-0230d8ce9fbb"
      },
      "source": [
        "from sklearn.metrics import confusion_matrix\n",
        "#learning rate\n",
        "lr = 1e-5#0.001\n",
        "#number of epochs \n",
        "num_epochs = 20\n",
        "\n",
        "optimizer = torch.optim.Adam(model.parameters(), lr= lr,weight_decay = 1e-5)\n",
        "\n",
        "#class_weights = torch.from_numpy(np.asarray([1,15])).type(torch.FloatTensor).cuda()\n",
        "#criterion = nn.CrossEntropyLoss(weight = class_weights).cuda()\n",
        "criterion = nn.CrossEntropyLoss().cuda()\n",
        "train_loss_avg =[]\n",
        "train_accuracy = []\n",
        "test_loss_avg = []\n",
        "test_accuracy = []\n",
        "for epoch in range(1,num_epochs+1):\n",
        "    l, acc = train_epoch(epoch,num_epochs,train_loader,model,criterion,optimizer)\n",
        "    train_loss_avg.append(l)\n",
        "    train_accuracy.append(acc)\n",
        "    true,pred,tl,t_acc = test(epoch,model,valid_loader,criterion)\n",
        "    test_loss_avg.append(tl)\n",
        "    test_accuracy.append(t_acc)\n",
        "plot_loss(train_loss_avg,test_loss_avg,len(train_loss_avg))\n",
        "plot_accuracy(train_accuracy,test_accuracy,len(train_accuracy))\n",
        "print(confusion_matrix(true,pred))\n",
        "print_confusion_matrix(true,pred)"
      ],
      "execution_count": 14,
      "outputs": [
        {
          "output_type": "stream",
          "name": "stderr",
          "text": [
            "/usr/local/lib/python3.7/dist-packages/torch/utils/data/dataloader.py:490: UserWarning: This DataLoader will create 4 worker processes in total. Our suggested max number of worker in current system is 2, which is smaller than what this DataLoader is going to create. Please be aware that excessive worker creation might get DataLoader running slow or even freeze, lower the worker number to avoid potential slowness/freeze if necessary.\n",
            "  cpuset_checked))\n"
          ]
        },
        {
          "output_type": "stream",
          "name": "stdout",
          "text": [
            "[Epoch 1/20] [Batch 74 / 75] [Loss: 0.531194, Acc: 79.46%]Testing\n",
            "[Batch 18 / 19]  [Loss: 0.553117, Acc: 77.33%]\n",
            "Accuracy 77.33333333333333\n",
            "[Epoch 2/20] [Batch 74 / 75] [Loss: 0.545762, Acc: 80.47%]Testing\n",
            "[Batch 18 / 19]  [Loss: 0.499637, Acc: 77.33%]\n",
            "Accuracy 77.33333333333333\n",
            "[Epoch 3/20] [Batch 74 / 75] [Loss: 0.494003, Acc: 80.47%]Testing\n",
            "[Batch 18 / 19]  [Loss: 0.448734, Acc: 77.33%]\n",
            "Accuracy 77.33333333333333\n",
            "[Epoch 4/20] [Batch 74 / 75] [Loss: 0.460642, Acc: 81.14%]Testing\n",
            "[Batch 18 / 19]  [Loss: 0.428504, Acc: 77.33%]\n",
            "Accuracy 77.33333333333333\n",
            "[Epoch 5/20] [Batch 74 / 75] [Loss: 0.402032, Acc: 85.52%]Testing\n",
            "[Batch 18 / 19]  [Loss: 0.430450, Acc: 84.00%]\n",
            "Accuracy 84.0\n",
            "[Epoch 6/20] [Batch 74 / 75] [Loss: 0.340653, Acc: 91.58%]Testing\n",
            "[Batch 18 / 19]  [Loss: 0.410289, Acc: 85.33%]\n",
            "Accuracy 85.33333333333333\n",
            "[Epoch 7/20] [Batch 74 / 75] [Loss: 0.284760, Acc: 91.92%]Testing\n",
            "[Batch 18 / 19]  [Loss: 0.425968, Acc: 82.67%]\n",
            "Accuracy 82.66666666666667\n",
            "[Epoch 8/20] [Batch 74 / 75] [Loss: 0.265765, Acc: 95.96%]Testing\n",
            "[Batch 18 / 19]  [Loss: 0.407433, Acc: 84.00%]\n",
            "Accuracy 84.0\n",
            "[Epoch 9/20] [Batch 74 / 75] [Loss: 0.187590, Acc: 97.64%]Testing\n",
            "[Batch 18 / 19]  [Loss: 0.395289, Acc: 82.67%]\n",
            "Accuracy 82.66666666666667\n",
            "[Epoch 10/20] [Batch 74 / 75] [Loss: 0.188698, Acc: 96.97%]Testing\n",
            "[Batch 18 / 19]  [Loss: 0.391205, Acc: 84.00%]\n",
            "Accuracy 84.0\n",
            "[Epoch 11/20] [Batch 74 / 75] [Loss: 0.163188, Acc: 97.64%]Testing\n",
            "[Batch 18 / 19]  [Loss: 0.345036, Acc: 85.33%]\n",
            "Accuracy 85.33333333333333\n",
            "[Epoch 12/20] [Batch 74 / 75] [Loss: 0.228579, Acc: 96.63%]Testing\n",
            "[Batch 18 / 19]  [Loss: 0.381693, Acc: 84.00%]\n",
            "Accuracy 84.0\n",
            "[Epoch 13/20] [Batch 74 / 75] [Loss: 0.163488, Acc: 96.97%]Testing\n",
            "[Batch 18 / 19]  [Loss: 0.412986, Acc: 84.00%]\n",
            "Accuracy 84.0\n",
            "[Epoch 14/20] [Batch 74 / 75] [Loss: 0.144911, Acc: 98.32%]Testing\n",
            "[Batch 18 / 19]  [Loss: 0.459906, Acc: 85.33%]\n",
            "Accuracy 85.33333333333333\n",
            "[Epoch 15/20] [Batch 74 / 75] [Loss: 0.151079, Acc: 98.99%]Testing\n",
            "[Batch 18 / 19]  [Loss: 0.380421, Acc: 85.33%]\n",
            "Accuracy 85.33333333333333\n",
            "[Epoch 16/20] [Batch 74 / 75] [Loss: 0.169680, Acc: 98.32%]Testing\n",
            "[Batch 18 / 19]  [Loss: 0.441888, Acc: 82.67%]\n",
            "Accuracy 82.66666666666667\n",
            "[Epoch 17/20] [Batch 74 / 75] [Loss: 0.168803, Acc: 98.65%]Testing\n",
            "[Batch 18 / 19]  [Loss: 0.562124, Acc: 85.33%]\n",
            "Accuracy 85.33333333333333\n",
            "[Epoch 18/20] [Batch 74 / 75] [Loss: 0.131157, Acc: 99.33%]Testing\n",
            "[Batch 18 / 19]  [Loss: 0.504927, Acc: 80.00%]\n",
            "Accuracy 80.0\n",
            "[Epoch 19/20] [Batch 74 / 75] [Loss: 0.165838, Acc: 98.99%]Testing\n",
            "[Batch 18 / 19]  [Loss: 0.531862, Acc: 82.67%]\n",
            "Accuracy 82.66666666666667\n",
            "[Epoch 20/20] [Batch 74 / 75] [Loss: 0.158230, Acc: 98.99%]Testing\n",
            "[Batch 18 / 19]  [Loss: 0.648410, Acc: 82.67%]\n",
            "Accuracy 82.66666666666667\n",
            "20\n"
          ]
        },
        {
          "output_type": "display_data",
          "data": {
            "text/plain": [
              "<Figure size 432x288 with 1 Axes>"
            ],
            "image/png": "[encoded data removed]"
          },
          "metadata": {
            "needs_background": "light"
          }
        },
        {
          "output_type": "display_data",
          "data": {
            "text/plain": [
              "<Figure size 432x288 with 1 Axes>"
            ],
            "image/png": "[encoded data removed]"
          },
          "metadata": {
            "needs_background": "light"
          }
        },
        {
          "output_type": "stream",
          "name": "stdout",
          "text": [
            "[[51  7]\n",
            " [ 6 11]]\n",
            "True positive =  51\n",
            "False positive =  7\n",
            "False negative =  6\n",
            "True negative =  11\n",
            "\n",
            "\n"
          ]
        },
        {
          "output_type": "display_data",
          "data": {
            "text/plain": [
              "<Figure size 432x288 with 2 Axes>"
            ],
            "image/png": "[encoded data removed]"
          },
          "metadata": {}
        },
        {
          "output_type": "stream",
          "name": "stdout",
          "text": [
            "Calculated Accuracy 82.66666666666667\n"
          ]
        }
      ]
    }
  ]
}